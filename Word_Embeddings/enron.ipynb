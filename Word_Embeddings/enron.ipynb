{
 "cells": [
  {
   "cell_type": "markdown",
   "metadata": {},
   "source": [
    "# Enron email analysis"
   ]
  },
  {
   "cell_type": "markdown",
   "metadata": {},
   "source": [
    "This report focuses on multi class classification of the enron email dataset. Let's have a look at the step by step procedure."
   ]
  },
  {
   "cell_type": "markdown",
   "metadata": {},
   "source": [
    "**Imorting required libraries**"
   ]
  },
  {
   "cell_type": "code",
   "execution_count": 1,
   "metadata": {},
   "outputs": [],
   "source": [
    "import sys\n",
    "# import email\n",
    "import re\n",
    "import glob\n",
    "import numpy as np\n",
    "import pandas as pd\n",
    "import itertools\n",
    "from sklearn.metrics import confusion_matrix\n",
    "from sklearn.feature_extraction.text import TfidfTransformer, ENGLISH_STOP_WORDS, TfidfVectorizer, CountVectorizer\n",
    "from sklearn.model_selection import train_test_split, cross_val_score\n",
    "from sklearn.naive_bayes import MultinomialNB\n",
    "from sklearn.linear_model import LogisticRegression\n",
    "from sklearn.ensemble import RandomForestClassifier\n",
    "from sklearn.svm import LinearSVC\n",
    "from os import listdir\n",
    "from os.path import isfile, join\n",
    "import matplotlib.pyplot as plt\n",
    "import seaborn as sns\n",
    "import nltk\n",
    "from nltk.stem.porter import PorterStemmer\n",
    "# nltk.download('wordnet')\n",
    "from nltk.stem import WordNetLemmatizer\n",
    "from sklearn import metrics\n",
    "from helper import *\n",
    "%matplotlib inline\n",
    "sns.set_style('whitegrid')\n",
    "# pd.set_option('display.max_colwidth', -1)"
   ]
  },
  {
   "cell_type": "markdown",
   "metadata": {},
   "source": [
    "## Data load\n",
    "### Creating a data set containing file paths"
   ]
  },
  {
   "cell_type": "code",
   "execution_count": 2,
   "metadata": {},
   "outputs": [],
   "source": [
    "all_txt = glob.glob('enron_with_categories/' + '**/*txt', recursive = True)"
   ]
  },
  {
   "cell_type": "code",
   "execution_count": 3,
   "metadata": {},
   "outputs": [],
   "source": [
    "all_txt_df = pd.DataFrame({'file_loc' : all_txt})"
   ]
  },
  {
   "cell_type": "code",
   "execution_count": 4,
   "metadata": {},
   "outputs": [],
   "source": [
    "all_txt_df['name'] = all_txt_df.file_loc.apply(lambda x: x.split('/')[-1])"
   ]
  },
  {
   "cell_type": "code",
   "execution_count": 5,
   "metadata": {},
   "outputs": [],
   "source": [
    "all_txt_df['cat_file_loc'] = all_txt_df.file_loc.apply(lambda x: x.replace('.txt', '.cats'))"
   ]
  },
  {
   "cell_type": "code",
   "execution_count": 6,
   "metadata": {},
   "outputs": [
    {
     "data": {
      "text/html": [
       "<div>\n",
       "<style scoped>\n",
       "    .dataframe tbody tr th:only-of-type {\n",
       "        vertical-align: middle;\n",
       "    }\n",
       "\n",
       "    .dataframe tbody tr th {\n",
       "        vertical-align: top;\n",
       "    }\n",
       "\n",
       "    .dataframe thead th {\n",
       "        text-align: right;\n",
       "    }\n",
       "</style>\n",
       "<table border=\"1\" class=\"dataframe\">\n",
       "  <thead>\n",
       "    <tr style=\"text-align: right;\">\n",
       "      <th></th>\n",
       "      <th>file_loc</th>\n",
       "      <th>name</th>\n",
       "      <th>cat_file_loc</th>\n",
       "    </tr>\n",
       "  </thead>\n",
       "  <tbody>\n",
       "    <tr>\n",
       "      <th>0</th>\n",
       "      <td>enron_with_categories/categories.txt</td>\n",
       "      <td>categories.txt</td>\n",
       "      <td>enron_with_categories/categories.cats</td>\n",
       "    </tr>\n",
       "    <tr>\n",
       "      <th>1</th>\n",
       "      <td>enron_with_categories/1/10425.txt</td>\n",
       "      <td>10425.txt</td>\n",
       "      <td>enron_with_categories/1/10425.cats</td>\n",
       "    </tr>\n",
       "    <tr>\n",
       "      <th>2</th>\n",
       "      <td>enron_with_categories/1/106296.txt</td>\n",
       "      <td>106296.txt</td>\n",
       "      <td>enron_with_categories/1/106296.cats</td>\n",
       "    </tr>\n",
       "    <tr>\n",
       "      <th>3</th>\n",
       "      <td>enron_with_categories/1/106298.txt</td>\n",
       "      <td>106298.txt</td>\n",
       "      <td>enron_with_categories/1/106298.cats</td>\n",
       "    </tr>\n",
       "    <tr>\n",
       "      <th>4</th>\n",
       "      <td>enron_with_categories/1/106588.txt</td>\n",
       "      <td>106588.txt</td>\n",
       "      <td>enron_with_categories/1/106588.cats</td>\n",
       "    </tr>\n",
       "  </tbody>\n",
       "</table>\n",
       "</div>"
      ],
      "text/plain": [
       "                               file_loc            name  \\\n",
       "0  enron_with_categories/categories.txt  categories.txt   \n",
       "1     enron_with_categories/1/10425.txt       10425.txt   \n",
       "2    enron_with_categories/1/106296.txt      106296.txt   \n",
       "3    enron_with_categories/1/106298.txt      106298.txt   \n",
       "4    enron_with_categories/1/106588.txt      106588.txt   \n",
       "\n",
       "                            cat_file_loc  \n",
       "0  enron_with_categories/categories.cats  \n",
       "1     enron_with_categories/1/10425.cats  \n",
       "2    enron_with_categories/1/106296.cats  \n",
       "3    enron_with_categories/1/106298.cats  \n",
       "4    enron_with_categories/1/106588.cats  "
      ]
     },
     "execution_count": 6,
     "metadata": {},
     "output_type": "execute_result"
    }
   ],
   "source": [
    "all_txt_df.head()"
   ]
  },
  {
   "cell_type": "markdown",
   "metadata": {},
   "source": [
    "### Read files"
   ]
  },
  {
   "cell_type": "code",
   "execution_count": 7,
   "metadata": {},
   "outputs": [],
   "source": [
    "cl, catl = read_files(all_txt_df)"
   ]
  },
  {
   "cell_type": "code",
   "execution_count": 8,
   "metadata": {},
   "outputs": [],
   "source": [
    "all_txt_df['raw_content'] = cl\n",
    "all_txt_df['raw_cats'] = catl\n",
    "all_txt_df.to_csv('cats_email.csv', index = False)"
   ]
  },
  {
   "cell_type": "markdown",
   "metadata": {},
   "source": [
    "### Feature extraction\n",
    "\n",
    "The function `get_cat` extracts the category id and emotion tone of the message from the information contained in category files."
   ]
  },
  {
   "cell_type": "code",
   "execution_count": 9,
   "metadata": {},
   "outputs": [
    {
     "data": {
      "text/html": [
       "<div>\n",
       "<style scoped>\n",
       "    .dataframe tbody tr th:only-of-type {\n",
       "        vertical-align: middle;\n",
       "    }\n",
       "\n",
       "    .dataframe tbody tr th {\n",
       "        vertical-align: top;\n",
       "    }\n",
       "\n",
       "    .dataframe thead th {\n",
       "        text-align: right;\n",
       "    }\n",
       "</style>\n",
       "<table border=\"1\" class=\"dataframe\">\n",
       "  <thead>\n",
       "    <tr style=\"text-align: right;\">\n",
       "      <th></th>\n",
       "      <th>file_loc</th>\n",
       "      <th>name</th>\n",
       "      <th>cat_file_loc</th>\n",
       "      <th>raw_content</th>\n",
       "      <th>raw_cats</th>\n",
       "      <th>cat_id</th>\n",
       "      <th>emo_tone</th>\n",
       "    </tr>\n",
       "  </thead>\n",
       "  <tbody>\n",
       "    <tr>\n",
       "      <th>0</th>\n",
       "      <td>enron_with_categories/categories.txt</td>\n",
       "      <td>categories.txt</td>\n",
       "      <td>enron_with_categories/categories.cats</td>\n",
       "      <td></td>\n",
       "      <td></td>\n",
       "      <td>None</td>\n",
       "      <td>None</td>\n",
       "    </tr>\n",
       "    <tr>\n",
       "      <th>1</th>\n",
       "      <td>enron_with_categories/1/10425.txt</td>\n",
       "      <td>10425.txt</td>\n",
       "      <td>enron_with_categories/1/10425.cats</td>\n",
       "      <td>Message-ID: &lt;197504.1075840201539.JavaMail.eva...</td>\n",
       "      <td>1,1,1\\n2,6,1\\n2,13,1\\n3,3,1\\n</td>\n",
       "      <td>1</td>\n",
       "      <td>None</td>\n",
       "    </tr>\n",
       "    <tr>\n",
       "      <th>2</th>\n",
       "      <td>enron_with_categories/1/106296.txt</td>\n",
       "      <td>106296.txt</td>\n",
       "      <td>enron_with_categories/1/106296.cats</td>\n",
       "      <td>Message-ID: &lt;11991339.1075842536086.JavaMail.e...</td>\n",
       "      <td>1,1,2\\n3,6,2\\n4,10,2\\n</td>\n",
       "      <td>1</td>\n",
       "      <td>10</td>\n",
       "    </tr>\n",
       "    <tr>\n",
       "      <th>3</th>\n",
       "      <td>enron_with_categories/1/106298.txt</td>\n",
       "      <td>106298.txt</td>\n",
       "      <td>enron_with_categories/1/106298.cats</td>\n",
       "      <td>Message-ID: &lt;7106753.1075842536132.JavaMail.ev...</td>\n",
       "      <td>1,1,1\\n1,6,1\\n2,1,1\\n2,2,2\\n3,6,2\\n3,7,1\\n4,10...</td>\n",
       "      <td>1</td>\n",
       "      <td>10</td>\n",
       "    </tr>\n",
       "    <tr>\n",
       "      <th>4</th>\n",
       "      <td>enron_with_categories/1/106588.txt</td>\n",
       "      <td>106588.txt</td>\n",
       "      <td>enron_with_categories/1/106588.cats</td>\n",
       "      <td>Message-ID: &lt;21267718.1075863331587.JavaMail.e...</td>\n",
       "      <td>1,1,2\\n2,1,2\\n2,2,2\\n3,6,2\\n3,10,2\\n</td>\n",
       "      <td>1</td>\n",
       "      <td>None</td>\n",
       "    </tr>\n",
       "  </tbody>\n",
       "</table>\n",
       "</div>"
      ],
      "text/plain": [
       "                               file_loc            name  \\\n",
       "0  enron_with_categories/categories.txt  categories.txt   \n",
       "1     enron_with_categories/1/10425.txt       10425.txt   \n",
       "2    enron_with_categories/1/106296.txt      106296.txt   \n",
       "3    enron_with_categories/1/106298.txt      106298.txt   \n",
       "4    enron_with_categories/1/106588.txt      106588.txt   \n",
       "\n",
       "                            cat_file_loc  \\\n",
       "0  enron_with_categories/categories.cats   \n",
       "1     enron_with_categories/1/10425.cats   \n",
       "2    enron_with_categories/1/106296.cats   \n",
       "3    enron_with_categories/1/106298.cats   \n",
       "4    enron_with_categories/1/106588.cats   \n",
       "\n",
       "                                         raw_content  \\\n",
       "0                                                      \n",
       "1  Message-ID: <197504.1075840201539.JavaMail.eva...   \n",
       "2  Message-ID: <11991339.1075842536086.JavaMail.e...   \n",
       "3  Message-ID: <7106753.1075842536132.JavaMail.ev...   \n",
       "4  Message-ID: <21267718.1075863331587.JavaMail.e...   \n",
       "\n",
       "                                            raw_cats cat_id emo_tone  \n",
       "0                                                      None     None  \n",
       "1                      1,1,1\\n2,6,1\\n2,13,1\\n3,3,1\\n      1     None  \n",
       "2                             1,1,2\\n3,6,2\\n4,10,2\\n      1       10  \n",
       "3  1,1,1\\n1,6,1\\n2,1,1\\n2,2,2\\n3,6,2\\n3,7,1\\n4,10...      1       10  \n",
       "4               1,1,2\\n2,1,2\\n2,2,2\\n3,6,2\\n3,10,2\\n      1     None  "
      ]
     },
     "execution_count": 9,
     "metadata": {},
     "output_type": "execute_result"
    }
   ],
   "source": [
    "all_txt_df['cat_id'] = all_txt_df.raw_cats.apply(lambda x: get_cat(x, 1))\n",
    "all_txt_df['emo_tone'] = all_txt_df.raw_cats.apply(lambda x: get_cat(x, 4))\n",
    "all_txt_df.head()"
   ]
  },
  {
   "cell_type": "code",
   "execution_count": 10,
   "metadata": {
    "scrolled": true
   },
   "outputs": [
    {
     "data": {
      "text/html": [
       "<div>\n",
       "<style scoped>\n",
       "    .dataframe tbody tr th:only-of-type {\n",
       "        vertical-align: middle;\n",
       "    }\n",
       "\n",
       "    .dataframe tbody tr th {\n",
       "        vertical-align: top;\n",
       "    }\n",
       "\n",
       "    .dataframe thead th {\n",
       "        text-align: right;\n",
       "    }\n",
       "</style>\n",
       "<table border=\"1\" class=\"dataframe\">\n",
       "  <thead>\n",
       "    <tr style=\"text-align: right;\">\n",
       "      <th></th>\n",
       "      <th>file_loc</th>\n",
       "      <th>name</th>\n",
       "      <th>cat_file_loc</th>\n",
       "      <th>raw_content</th>\n",
       "      <th>raw_cats</th>\n",
       "      <th>cat_id</th>\n",
       "      <th>emo_tone</th>\n",
       "    </tr>\n",
       "  </thead>\n",
       "  <tbody>\n",
       "    <tr>\n",
       "      <th>1</th>\n",
       "      <td>enron_with_categories/1/10425.txt</td>\n",
       "      <td>10425.txt</td>\n",
       "      <td>enron_with_categories/1/10425.cats</td>\n",
       "      <td>Message-ID: &lt;197504.1075840201539.JavaMail.eva...</td>\n",
       "      <td>1,1,1\\n2,6,1\\n2,13,1\\n3,3,1\\n</td>\n",
       "      <td>1</td>\n",
       "      <td>None</td>\n",
       "    </tr>\n",
       "    <tr>\n",
       "      <th>2</th>\n",
       "      <td>enron_with_categories/1/106296.txt</td>\n",
       "      <td>106296.txt</td>\n",
       "      <td>enron_with_categories/1/106296.cats</td>\n",
       "      <td>Message-ID: &lt;11991339.1075842536086.JavaMail.e...</td>\n",
       "      <td>1,1,2\\n3,6,2\\n4,10,2\\n</td>\n",
       "      <td>1</td>\n",
       "      <td>10</td>\n",
       "    </tr>\n",
       "    <tr>\n",
       "      <th>3</th>\n",
       "      <td>enron_with_categories/1/106298.txt</td>\n",
       "      <td>106298.txt</td>\n",
       "      <td>enron_with_categories/1/106298.cats</td>\n",
       "      <td>Message-ID: &lt;7106753.1075842536132.JavaMail.ev...</td>\n",
       "      <td>1,1,1\\n1,6,1\\n2,1,1\\n2,2,2\\n3,6,2\\n3,7,1\\n4,10...</td>\n",
       "      <td>1</td>\n",
       "      <td>10</td>\n",
       "    </tr>\n",
       "    <tr>\n",
       "      <th>4</th>\n",
       "      <td>enron_with_categories/1/106588.txt</td>\n",
       "      <td>106588.txt</td>\n",
       "      <td>enron_with_categories/1/106588.cats</td>\n",
       "      <td>Message-ID: &lt;21267718.1075863331587.JavaMail.e...</td>\n",
       "      <td>1,1,2\\n2,1,2\\n2,2,2\\n3,6,2\\n3,10,2\\n</td>\n",
       "      <td>1</td>\n",
       "      <td>None</td>\n",
       "    </tr>\n",
       "    <tr>\n",
       "      <th>5</th>\n",
       "      <td>enron_with_categories/1/106590.txt</td>\n",
       "      <td>106590.txt</td>\n",
       "      <td>enron_with_categories/1/106590.cats</td>\n",
       "      <td>Message-ID: &lt;20866019.1075863331634.JavaMail.e...</td>\n",
       "      <td>1,1,1\\n3,6,1\\n3,10,1\\n4,10,1\\n</td>\n",
       "      <td>1</td>\n",
       "      <td>10</td>\n",
       "    </tr>\n",
       "  </tbody>\n",
       "</table>\n",
       "</div>"
      ],
      "text/plain": [
       "                             file_loc        name  \\\n",
       "1   enron_with_categories/1/10425.txt   10425.txt   \n",
       "2  enron_with_categories/1/106296.txt  106296.txt   \n",
       "3  enron_with_categories/1/106298.txt  106298.txt   \n",
       "4  enron_with_categories/1/106588.txt  106588.txt   \n",
       "5  enron_with_categories/1/106590.txt  106590.txt   \n",
       "\n",
       "                          cat_file_loc  \\\n",
       "1   enron_with_categories/1/10425.cats   \n",
       "2  enron_with_categories/1/106296.cats   \n",
       "3  enron_with_categories/1/106298.cats   \n",
       "4  enron_with_categories/1/106588.cats   \n",
       "5  enron_with_categories/1/106590.cats   \n",
       "\n",
       "                                         raw_content  \\\n",
       "1  Message-ID: <197504.1075840201539.JavaMail.eva...   \n",
       "2  Message-ID: <11991339.1075842536086.JavaMail.e...   \n",
       "3  Message-ID: <7106753.1075842536132.JavaMail.ev...   \n",
       "4  Message-ID: <21267718.1075863331587.JavaMail.e...   \n",
       "5  Message-ID: <20866019.1075863331634.JavaMail.e...   \n",
       "\n",
       "                                            raw_cats cat_id emo_tone  \n",
       "1                      1,1,1\\n2,6,1\\n2,13,1\\n3,3,1\\n      1     None  \n",
       "2                             1,1,2\\n3,6,2\\n4,10,2\\n      1       10  \n",
       "3  1,1,1\\n1,6,1\\n2,1,1\\n2,2,2\\n3,6,2\\n3,7,1\\n4,10...      1       10  \n",
       "4               1,1,2\\n2,1,2\\n2,2,2\\n3,6,2\\n3,10,2\\n      1     None  \n",
       "5                     1,1,1\\n3,6,1\\n3,10,1\\n4,10,1\\n      1       10  "
      ]
     },
     "execution_count": 10,
     "metadata": {},
     "output_type": "execute_result"
    }
   ],
   "source": [
    "emails = all_txt_df.copy()\n",
    "emails.raw_content = emails.raw_content.astype('str')\n",
    "emails = emails[1:]\n",
    "emails.head()"
   ]
  },
  {
   "cell_type": "code",
   "execution_count": 11,
   "metadata": {},
   "outputs": [
    {
     "name": "stdout",
     "output_type": "stream",
     "text": [
      "file_loc           0\n",
      "name               0\n",
      "cat_file_loc       0\n",
      "raw_content        0\n",
      "raw_cats           0\n",
      "cat_id             0\n",
      "emo_tone        1392\n",
      "dtype: int64\n",
      "1702\n"
     ]
    }
   ],
   "source": [
    "print(emails.isnull().sum())\n",
    "print(len(emails))"
   ]
  },
  {
   "cell_type": "code",
   "execution_count": 12,
   "metadata": {},
   "outputs": [],
   "source": [
    "emails = emails.drop('emo_tone', axis = 1)"
   ]
  },
  {
   "cell_type": "markdown",
   "metadata": {},
   "source": [
    "As the column `emo_tone` didn't have much information, we can delete it entirely. Below are some useful information extracted from the raw_content of each email."
   ]
  },
  {
   "cell_type": "code",
   "execution_count": 13,
   "metadata": {},
   "outputs": [],
   "source": [
    "messages = parse_into_emails(emails.raw_content)\n",
    "emails['subject'] = messages['subject']\n",
    "emails['body'] = messages['body']\n",
    "emails['to'] = messages['to']\n",
    "emails['from_'] = messages['from_']"
   ]
  },
  {
   "cell_type": "markdown",
   "metadata": {},
   "source": [
    "Combining both subject and body to one column"
   ]
  },
  {
   "cell_type": "code",
   "execution_count": 14,
   "metadata": {
    "scrolled": true
   },
   "outputs": [],
   "source": [
    "emails[\"content\"] = emails[\"subject\"].map(str) + \" \" + emails[\"body\"]\n",
    "emails.drop(['subject', 'body', 'raw_content', 'raw_cats'], axis=1, inplace = True)"
   ]
  },
  {
   "cell_type": "markdown",
   "metadata": {},
   "source": [
    "I have only used the word lemmatizer. Stemming the words didn't give better result."
   ]
  },
  {
   "cell_type": "code",
   "execution_count": 15,
   "metadata": {
    "scrolled": true
   },
   "outputs": [
    {
     "data": {
      "text/html": [
       "<div>\n",
       "<style scoped>\n",
       "    .dataframe tbody tr th:only-of-type {\n",
       "        vertical-align: middle;\n",
       "    }\n",
       "\n",
       "    .dataframe tbody tr th {\n",
       "        vertical-align: top;\n",
       "    }\n",
       "\n",
       "    .dataframe thead th {\n",
       "        text-align: right;\n",
       "    }\n",
       "</style>\n",
       "<table border=\"1\" class=\"dataframe\">\n",
       "  <thead>\n",
       "    <tr style=\"text-align: right;\">\n",
       "      <th></th>\n",
       "      <th>file_loc</th>\n",
       "      <th>name</th>\n",
       "      <th>cat_file_loc</th>\n",
       "      <th>cat_id</th>\n",
       "      <th>to</th>\n",
       "      <th>from_</th>\n",
       "      <th>content</th>\n",
       "    </tr>\n",
       "  </thead>\n",
       "  <tbody>\n",
       "    <tr>\n",
       "      <th>1</th>\n",
       "      <td>enron_with_categories/1/10425.txt</td>\n",
       "      <td>10425.txt</td>\n",
       "      <td>enron_with_categories/1/10425.cats</td>\n",
       "      <td>1</td>\n",
       "      <td>Andrew Morrison/LON/ECT@ECT</td>\n",
       "      <td>steven.kean@enron.com</td>\n",
       "      <td>Translation of article jeff.skilling@enron.com...</td>\n",
       "    </tr>\n",
       "    <tr>\n",
       "      <th>2</th>\n",
       "      <td>enron_with_categories/1/106296.txt</td>\n",
       "      <td>106296.txt</td>\n",
       "      <td>enron_with_categories/1/106296.cats</td>\n",
       "      <td>1</td>\n",
       "      <td>darrell.schoolcraft@enron.com</td>\n",
       "      <td>drew.fossum@enron.com</td>\n",
       "      <td>TW Gas Sales In anticipation of potential liti...</td>\n",
       "    </tr>\n",
       "    <tr>\n",
       "      <th>3</th>\n",
       "      <td>enron_with_categories/1/106298.txt</td>\n",
       "      <td>106298.txt</td>\n",
       "      <td>enron_with_categories/1/106298.cats</td>\n",
       "      <td>1</td>\n",
       "      <td>Darrell Schoolcraft/ET&amp;S/Enron@ENRON</td>\n",
       "      <td>drew.fossum@enron.com</td>\n",
       "      <td>TW Gas Sales Julia and Steve--here are some qu...</td>\n",
       "    </tr>\n",
       "    <tr>\n",
       "      <th>4</th>\n",
       "      <td>enron_with_categories/1/106588.txt</td>\n",
       "      <td>106588.txt</td>\n",
       "      <td>enron_with_categories/1/106588.cats</td>\n",
       "      <td>1</td>\n",
       "      <td>Darrell Schoolcraft/ET&amp;S/Enron@ENRON</td>\n",
       "      <td>drew.fossum@enron.com</td>\n",
       "      <td>TW Gas Sales Julia and Steve--here are some qu...</td>\n",
       "    </tr>\n",
       "    <tr>\n",
       "      <th>5</th>\n",
       "      <td>enron_with_categories/1/106590.txt</td>\n",
       "      <td>106590.txt</td>\n",
       "      <td>enron_with_categories/1/106590.cats</td>\n",
       "      <td>1</td>\n",
       "      <td>darrell.schoolcraft@enron.com</td>\n",
       "      <td>drew.fossum@enron.com</td>\n",
       "      <td>TW Gas Sales 1 What are the specific pressure ...</td>\n",
       "    </tr>\n",
       "  </tbody>\n",
       "</table>\n",
       "</div>"
      ],
      "text/plain": [
       "                             file_loc        name  \\\n",
       "1   enron_with_categories/1/10425.txt   10425.txt   \n",
       "2  enron_with_categories/1/106296.txt  106296.txt   \n",
       "3  enron_with_categories/1/106298.txt  106298.txt   \n",
       "4  enron_with_categories/1/106588.txt  106588.txt   \n",
       "5  enron_with_categories/1/106590.txt  106590.txt   \n",
       "\n",
       "                          cat_file_loc cat_id  \\\n",
       "1   enron_with_categories/1/10425.cats      1   \n",
       "2  enron_with_categories/1/106296.cats      1   \n",
       "3  enron_with_categories/1/106298.cats      1   \n",
       "4  enron_with_categories/1/106588.cats      1   \n",
       "5  enron_with_categories/1/106590.cats      1   \n",
       "\n",
       "                                     to                  from_  \\\n",
       "1           Andrew Morrison/LON/ECT@ECT  steven.kean@enron.com   \n",
       "2         darrell.schoolcraft@enron.com  drew.fossum@enron.com   \n",
       "3  Darrell Schoolcraft/ET&S/Enron@ENRON  drew.fossum@enron.com   \n",
       "4  Darrell Schoolcraft/ET&S/Enron@ENRON  drew.fossum@enron.com   \n",
       "5         darrell.schoolcraft@enron.com  drew.fossum@enron.com   \n",
       "\n",
       "                                             content  \n",
       "1  Translation of article jeff.skilling@enron.com...  \n",
       "2  TW Gas Sales In anticipation of potential liti...  \n",
       "3  TW Gas Sales Julia and Steve--here are some qu...  \n",
       "4  TW Gas Sales Julia and Steve--here are some qu...  \n",
       "5  TW Gas Sales 1 What are the specific pressure ...  "
      ]
     },
     "execution_count": 15,
     "metadata": {},
     "output_type": "execute_result"
    }
   ],
   "source": [
    "lemmatizer = WordNetLemmatizer()\n",
    "content_lemma = [' '.join([lemmatizer.lemmatize(word.strip(',;!?\".')) for word in content.split()]) for content in emails.content]\n",
    "emails.content = content_lemma\n",
    "# stemmer = PorterStemmer()\n",
    "# content_stem = [' '.join([stemmer.stem(word) for word in content.split()]) for content in emails.content]\n",
    "# emails.content = content_stem\n",
    "emails.head()"
   ]
  },
  {
   "cell_type": "markdown",
   "metadata": {},
   "source": [
    "### TF-IDF"
   ]
  },
  {
   "cell_type": "code",
   "execution_count": 16,
   "metadata": {},
   "outputs": [],
   "source": [
    "stopwords = ENGLISH_STOP_WORDS.union(['ect', 'hou', 'com', 'recipient'])"
   ]
  },
  {
   "cell_type": "markdown",
   "metadata": {},
   "source": [
    "Let's have a look at the class distribution of our dataset."
   ]
  },
  {
   "cell_type": "code",
   "execution_count": 17,
   "metadata": {},
   "outputs": [
    {
     "data": {
      "image/png": "[encoded data removed]",
      "text/plain": [
       "<matplotlib.figure.Figure at 0x10faedeb8>"
      ]
     },
     "metadata": {},
     "output_type": "display_data"
    }
   ],
   "source": [
    "import matplotlib.pyplot as plt\n",
    "fig = plt.figure(figsize=(8,6))\n",
    "emails.groupby('cat_id').content.count().plot.bar(ylim=0)\n",
    "plt.show()"
   ]
  },
  {
   "cell_type": "markdown",
   "metadata": {},
   "source": [
    "The plot above shows huge class imbalance. Below is the description of each category.\n",
    "1. Company Business, Strategy, etc. (elaborate in Section 3 [Topics])\n",
    "\n",
    "2. Purely Personal\n",
    "\n",
    "3. Personal but in professional context (e.g., it was good working with you)\n",
    "\n",
    "4. Logistic Arrangements (meeting scheduling, technical support, etc)\n",
    "\n",
    "5. Employment arrangements (job seeking, hiring, recommendations, etc)\n",
    "\n",
    "6. Document editing/checking (collaboration)\n",
    "\n",
    "7. Empty message (due to missing attachment)\n",
    "\n",
    "8. Empty message"
   ]
  },
  {
   "cell_type": "code",
   "execution_count": 18,
   "metadata": {},
   "outputs": [],
   "source": [
    "vect = TfidfVectorizer(analyzer='word', sublinear_tf=True, max_df=0.3, min_df=2, norm='l2',\\\n",
    "                        encoding='latin-1', stop_words=stopwords)"
   ]
  },
  {
   "cell_type": "code",
   "execution_count": 19,
   "metadata": {},
   "outputs": [
    {
     "data": {
      "text/plain": [
       "(1702, 20933)"
      ]
     },
     "execution_count": 19,
     "metadata": {},
     "output_type": "execute_result"
    }
   ],
   "source": [
    "#features = tfidf.fit_transform(emails.content).toarray()\n",
    "X = vect.fit_transform(emails.content)\n",
    "feats = vect.get_feature_names()\n",
    "#X.shape\n",
    "features = X.toarray()\n",
    "labels = emails.cat_id\n",
    "features.shape"
   ]
  },
  {
   "cell_type": "markdown",
   "metadata": {},
   "source": [
    "1702 is the number of documents and 20933 is the count of unique words across all the documents. `features` is a numpy ndarray having the above dimension where each entry corresponds to a TF-IDF score of a word document pair. "
   ]
  },
  {
   "cell_type": "code",
   "execution_count": 20,
   "metadata": {},
   "outputs": [
    {
     "name": "stdout",
     "output_type": "stream",
     "text": [
      "      features     score\n",
      "0           tw  0.285613\n",
      "1  operational  0.269541\n",
      "2         sale  0.243291\n",
      "3       border  0.227247\n",
      "4       excess  0.179669\n"
     ]
    }
   ],
   "source": [
    "# Let's print the top 10 terms in document 1\n",
    "print(top_feats_in_doc(X, feats, 1, 5))"
   ]
  },
  {
   "cell_type": "code",
   "execution_count": 21,
   "metadata": {},
   "outputs": [
    {
     "name": "stdout",
     "output_type": "stream",
     "text": [
      "   features     score\n",
      "0       ees  0.016379\n",
      "1     vince  0.012905\n",
      "2   meeting  0.009735\n",
      "3        na  0.009440\n",
      "4  original  0.008785\n"
     ]
    }
   ],
   "source": [
    "# Now we print the top terms across all documents.\n",
    "print(top_mean_feats(X, feats, None, 0.1, 5))"
   ]
  },
  {
   "cell_type": "markdown",
   "metadata": {},
   "source": [
    "### Model comparison\n",
    "Now let's have a look at the performances of random forest, support vector machine, naive bayes and logistic regression."
   ]
  },
  {
   "cell_type": "code",
   "execution_count": 22,
   "metadata": {},
   "outputs": [],
   "source": [
    "models = [\n",
    "    RandomForestClassifier(n_estimators=500, min_samples_leaf=3, random_state=0, n_jobs = -1),\n",
    "    LinearSVC(),\n",
    "    MultinomialNB(alpha=1.0, class_prior=None, fit_prior=True),\n",
    "    LogisticRegression(random_state=0, C=0.4, penalty='l2', class_weight = 'balanced'),\n",
    "]\n",
    "CV = 5\n",
    "cv_df = pd.DataFrame(index=range(CV * len(models)))\n",
    "entries = []\n",
    "for model in models:\n",
    "  model_name = model.__class__.__name__\n",
    "  accuracies = cross_val_score(model, features, labels, scoring='accuracy', cv=CV)\n",
    "  for fold_idx, accuracy in enumerate(accuracies):\n",
    "    entries.append((model_name, fold_idx, accuracy))\n",
    "cv_df = pd.DataFrame(entries, columns=['model_name', 'fold_idx', 'accuracy'])"
   ]
  },
  {
   "cell_type": "markdown",
   "metadata": {},
   "source": [
    "Let's plot the accuracy of each model for all the iterations."
   ]
  },
  {
   "cell_type": "code",
   "execution_count": 23,
   "metadata": {},
   "outputs": [
    {
     "data": {
      "image/png": "[encoded data removed]",
      "text/plain": [
       "<matplotlib.figure.Figure at 0x1a1af64860>"
      ]
     },
     "metadata": {},
     "output_type": "display_data"
    }
   ],
   "source": [
    "sns.boxplot(x='model_name', y='accuracy', data=cv_df)\n",
    "sns.stripplot(x='model_name', y='accuracy', data=cv_df, \n",
    "              size=8, jitter=True, edgecolor=\"gray\", linewidth=2)\n",
    "plt.show()"
   ]
  },
  {
   "cell_type": "code",
   "execution_count": 24,
   "metadata": {},
   "outputs": [
    {
     "data": {
      "text/plain": [
       "model_name\n",
       "LinearSVC                 0.599125\n",
       "LogisticRegression        0.623884\n",
       "MultinomialNB             0.529347\n",
       "RandomForestClassifier    0.601469\n",
       "Name: accuracy, dtype: float64"
      ]
     },
     "execution_count": 24,
     "metadata": {},
     "output_type": "execute_result"
    }
   ],
   "source": [
    "cv_df.groupby('model_name').accuracy.mean()"
   ]
  },
  {
   "cell_type": "markdown",
   "metadata": {},
   "source": [
    "Seems like random forest and logistic regressions doing a better job than other models. Let's try to tune these models and see their performance."
   ]
  },
  {
   "cell_type": "markdown",
   "metadata": {},
   "source": [
    "### Performance of Linear SVM"
   ]
  },
  {
   "cell_type": "code",
   "execution_count": 25,
   "metadata": {},
   "outputs": [],
   "source": [
    "model = LinearSVC()\n",
    "X_train, X_test, y_train, y_test, indices_train, indices_test = train_test_split(features, labels, emails.index, test_size=0.33, random_state=10)\n",
    "model.fit(X_train, y_train)\n",
    "y_pred = model.predict(X_test)"
   ]
  },
  {
   "cell_type": "code",
   "execution_count": 26,
   "metadata": {},
   "outputs": [
    {
     "name": "stdout",
     "output_type": "stream",
     "text": [
      "Accuracy: 64.94661921708185\n"
     ]
    }
   ],
   "source": [
    "print(\"Accuracy: {}\".format(sum([a==b for a, b in zip(y_test, y_pred)])*100.0/len(y_test)))"
   ]
  },
  {
   "cell_type": "code",
   "execution_count": 27,
   "metadata": {},
   "outputs": [
    {
     "data": {
      "image/png": "[encoded data removed]",
      "text/plain": [
       "<matplotlib.figure.Figure at 0x1a1af64f60>"
      ]
     },
     "metadata": {},
     "output_type": "display_data"
    }
   ],
   "source": [
    "conf_mat = confusion_matrix(y_test, y_pred)\n",
    "fig, ax = plt.subplots(figsize=(8,6))\n",
    "sns.heatmap(conf_mat, annot=True, fmt='d',\n",
    "            xticklabels=list(emails.cat_id.unique()), yticklabels=list(emails.cat_id.unique()))\n",
    "plt.ylabel('Actual')\n",
    "plt.xlabel('Predicted')\n",
    "plt.show()"
   ]
  },
  {
   "cell_type": "markdown",
   "metadata": {},
   "source": [
    "From the above confusion matrix we can see, in category 1 and 4 most of the emails are classified correctly. But in all other categories the performance is poor because of class imbalance."
   ]
  },
  {
   "cell_type": "markdown",
   "metadata": {},
   "source": [
    "### Performance of logistic regression"
   ]
  },
  {
   "cell_type": "code",
   "execution_count": 28,
   "metadata": {},
   "outputs": [
    {
     "name": "stderr",
     "output_type": "stream",
     "text": [
      "/Users/bcl458/anaconda2/envs/py_3/lib/python3.6/site-packages/sklearn/linear_model/logistic.py:1228: UserWarning: 'n_jobs' > 1 does not have any effect when 'solver' is set to 'liblinear'. Got 'n_jobs' = -1.\n",
      "  \" = {}.\".format(self.n_jobs))\n"
     ]
    },
    {
     "data": {
      "text/plain": [
       "LogisticRegression(C=1, class_weight='balanced', dual=False,\n",
       "          fit_intercept=True, intercept_scaling=1, max_iter=100,\n",
       "          multi_class='ovr', n_jobs=-1, penalty='l2', random_state=None,\n",
       "          solver='liblinear', tol=0.0001, verbose=0, warm_start=False)"
      ]
     },
     "execution_count": 28,
     "metadata": {},
     "output_type": "execute_result"
    }
   ],
   "source": [
    "X_train, X_test, y_train, y_test = train_test_split(features, labels, test_size=0.3, random_state=10)\n",
    "logreg = LogisticRegression(C=1, penalty='l2', class_weight = 'balanced', n_jobs=-1)\n",
    "logreg.fit(X_train, y_train)"
   ]
  },
  {
   "cell_type": "code",
   "execution_count": 29,
   "metadata": {},
   "outputs": [
    {
     "name": "stdout",
     "output_type": "stream",
     "text": [
      "Accuracy of logistic regression classifier on test set: 0.67906\n"
     ]
    }
   ],
   "source": [
    "y_pred = logreg.predict(X_test)\n",
    "print('Accuracy of logistic regression classifier on test set: {:.5f}'.format(logreg.score(X_test, y_test)))"
   ]
  },
  {
   "cell_type": "markdown",
   "metadata": {},
   "source": [
    "### Performance of Naive Bayes"
   ]
  },
  {
   "cell_type": "code",
   "execution_count": 30,
   "metadata": {},
   "outputs": [],
   "source": [
    "max_df = [0.2, 0.25, 0.35, 0.45, 0.55, 0.65, 0.8]\n",
    "min_df = [10,20,30,40,50,60,70,80,90,100]\n",
    "scores = []\n",
    "shapes = []\n",
    "for i in max_df:\n",
    "    for j in min_df:\n",
    "        count_vect = CountVectorizer(max_df=i, min_df=j)\n",
    "        email_counts = count_vect.fit_transform(emails.content)\n",
    "        tfidf_transformer = TfidfTransformer()\n",
    "        email_tfidf = tfidf_transformer.fit_transform(email_counts)\n",
    "        clf = MultinomialNB(alpha=1.0, class_prior=None, fit_prior=True).fit(email_tfidf, emails.cat_id)\n",
    "        scores.append(clf.score(email_tfidf, emails.cat_id))\n",
    "        shapes.append(email_tfidf.shape)"
   ]
  },
  {
   "cell_type": "code",
   "execution_count": 31,
   "metadata": {},
   "outputs": [
    {
     "data": {
      "text/html": [
       "<div>\n",
       "<style scoped>\n",
       "    .dataframe tbody tr th:only-of-type {\n",
       "        vertical-align: middle;\n",
       "    }\n",
       "\n",
       "    .dataframe tbody tr th {\n",
       "        vertical-align: top;\n",
       "    }\n",
       "\n",
       "    .dataframe thead th {\n",
       "        text-align: right;\n",
       "    }\n",
       "</style>\n",
       "<table border=\"1\" class=\"dataframe\">\n",
       "  <thead>\n",
       "    <tr style=\"text-align: right;\">\n",
       "      <th></th>\n",
       "      <th>max_df</th>\n",
       "      <th>min_df</th>\n",
       "      <th>scores</th>\n",
       "      <th>shapes</th>\n",
       "    </tr>\n",
       "  </thead>\n",
       "  <tbody>\n",
       "    <tr>\n",
       "      <th>4</th>\n",
       "      <td>0.2</td>\n",
       "      <td>50</td>\n",
       "      <td>0.665687</td>\n",
       "      <td>(1702, 1981)</td>\n",
       "    </tr>\n",
       "  </tbody>\n",
       "</table>\n",
       "</div>"
      ],
      "text/plain": [
       "   max_df  min_df    scores        shapes\n",
       "4     0.2      50  0.665687  (1702, 1981)"
      ]
     },
     "execution_count": 31,
     "metadata": {},
     "output_type": "execute_result"
    }
   ],
   "source": [
    "score_nb = pd.DataFrame({'max_df': list(np.repeat(max_df,10)), 'min_df': min_df*7, 'scores' : scores, 'shapes' : shapes})\n",
    "score_nb.sort_values(by='scores', ascending=False).head(1)"
   ]
  },
  {
   "cell_type": "code",
   "execution_count": 32,
   "metadata": {
    "scrolled": true
   },
   "outputs": [
    {
     "name": "stdout",
     "output_type": "stream",
     "text": [
      "0.6656874265569918 (1702, 1981)\n"
     ]
    },
    {
     "data": {
      "text/plain": [
       "array([[815,   0,   0,  40,   0,   0,   0,   0],\n",
       "       [ 30,   1,   0,  17,   0,   0,   0,   0],\n",
       "       [ 87,   0,  13,  35,   0,   0,   0,   0],\n",
       "       [124,   0,   0, 302,   0,   0,   0,   0],\n",
       "       [ 46,   0,   0,  18,   0,   0,   0,   0],\n",
       "       [119,   0,   0,  14,   0,   2,   0,   0],\n",
       "       [ 17,   0,   0,   4,   0,   0,   0,   0],\n",
       "       [ 16,   0,   0,   2,   0,   0,   0,   0]])"
      ]
     },
     "execution_count": 32,
     "metadata": {},
     "output_type": "execute_result"
    }
   ],
   "source": [
    "count_vect = CountVectorizer(max_df=0.2, min_df=50)\n",
    "email_counts = count_vect.fit_transform(emails.content)\n",
    "tfidf_transformer = TfidfTransformer()\n",
    "email_tfidf = tfidf_transformer.fit_transform(email_counts)\n",
    "clf = MultinomialNB(alpha=1.0, class_prior=None, fit_prior=True).fit(email_tfidf, emails.cat_id)\n",
    "print(clf.score(email_tfidf, emails.cat_id), email_tfidf.shape)\n",
    "confusion_matrix(emails.cat_id, clf.predict(email_tfidf))"
   ]
  },
  {
   "cell_type": "markdown",
   "metadata": {},
   "source": [
    "The model is doing a great job for category 1 and some what descent job for category 4. But all other categories are victims of class imbalance."
   ]
  },
  {
   "cell_type": "markdown",
   "metadata": {},
   "source": [
    "### Performance of Random Forest"
   ]
  },
  {
   "cell_type": "code",
   "execution_count": 33,
   "metadata": {},
   "outputs": [],
   "source": [
    "X_train, X_test, y_train, y_test = train_test_split(features, labels, test_size=0.3, random_state=0)\n",
    "m = RandomForestClassifier(n_jobs = -1, n_estimators=100)"
   ]
  },
  {
   "cell_type": "code",
   "execution_count": null,
   "metadata": {},
   "outputs": [],
   "source": [
    "# params = {\n",
    "#     'min_samples_split' : [3, 5, 7, 10],\n",
    "#     'max_depth' : [6, 7, 8, 10, 11],\n",
    "#     'max_features' : [0.8, 'sqrt', 'log2', 0.6]\n",
    "# }\n",
    "# from sklearn.model_selection import GridSearchCV\n",
    "# fgrid = GridSearchCV(estimator = m, param_grid = params, cv = 3, verbose = 50)\n",
    "# fgrid.fit(X_train, y_train)"
   ]
  },
  {
   "cell_type": "code",
   "execution_count": 129,
   "metadata": {
    "scrolled": true
   },
   "outputs": [
    {
     "name": "stdout",
     "output_type": "stream",
     "text": [
      "{'max_depth': 7, 'max_features': 0.6, 'min_samples_split': 10}\n"
     ]
    }
   ],
   "source": [
    "# print(fgrid.best_params_)"
   ]
  },
  {
   "cell_type": "markdown",
   "metadata": {},
   "source": [
    "By running a grid search with 3 fold cross validation *(as given in the above 2 cells)*, I fould the best parameters as given above. Below I am fitting a random forest classifier with 500 trees along with these parameters."
   ]
  },
  {
   "cell_type": "code",
   "execution_count": 37,
   "metadata": {},
   "outputs": [
    {
     "name": "stdout",
     "output_type": "stream",
     "text": [
      "[0.6960537363560033, 0.6125244618395304]\n"
     ]
    }
   ],
   "source": [
    "m = RandomForestClassifier(n_jobs = -1, n_estimators=500, max_depth = 7, min_samples_split = 10, max_features = 0.6)\n",
    "m.fit(X_train, y_train)\n",
    "res = [m.score(X_train, y_train), m.score(X_test, y_test)]\n",
    "print(res)"
   ]
  },
  {
   "cell_type": "markdown",
   "metadata": {},
   "source": [
    "From the above analysis, logistic regression seems to perform a better job than all others."
   ]
  },
  {
   "cell_type": "code",
   "execution_count": null,
   "metadata": {},
   "outputs": [],
   "source": []
  }
 ],
 "metadata": {
  "kernelspec": {
   "display_name": "Python 3",
   "language": "python",
   "name": "python3"
  },
  "language_info": {
   "codemirror_mode": {
    "name": "ipython",
    "version": 3
   },
   "file_extension": ".py",
   "mimetype": "text/x-python",
   "name": "python",
   "nbconvert_exporter": "python",
   "pygments_lexer": "ipython3",
   "version": "3.6.4"
  }
 },
 "nbformat": 4,
 "nbformat_minor": 2
}
